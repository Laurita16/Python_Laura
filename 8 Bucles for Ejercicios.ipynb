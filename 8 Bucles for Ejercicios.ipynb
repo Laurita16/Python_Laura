{
 "cells": [
  {
   "cell_type": "markdown",
   "metadata": {},
   "source": [
    "<div style=\"text-align: center;\">\n",
    "  <img src=\"https://github.com/Hack-io-Data/Imagenes/blob/main/01-LogosHackio/logo_celeste@4x.png?raw=true\" alt=\"logo hack(io)\" />\n",
    "</div>"
   ]
  },
  {
   "cell_type": "markdown",
   "metadata": {},
   "source": [
    "####  1. Genera una lista de números del 0 al 4 y luego imprime cada número en la lista usando un `bucle for`. "
   ]
  },
  {
   "cell_type": "code",
   "execution_count": 2,
   "metadata": {},
   "outputs": [
    {
     "name": "stdout",
     "output_type": "stream",
     "text": [
      "Estamos iterando sobre cada número de la lista. Este es el: 0\n",
      "Estamos iterando sobre cada número de la lista. Este es el: 1\n",
      "Estamos iterando sobre cada número de la lista. Este es el: 2\n",
      "Estamos iterando sobre cada número de la lista. Este es el: 3\n",
      "Estamos iterando sobre cada número de la lista. Este es el: 4\n"
     ]
    }
   ],
   "source": [
    "lista_numeros = [0,1,2,3,4]\n",
    "for n in lista_numeros:\n",
    "    print(\"Estamos iterando sobre cada número de la lista. Este es el:\",n)"
   ]
  },
  {
   "cell_type": "markdown",
   "metadata": {},
   "source": [
    "#### 2. Itera sobre una lista de frutas y muestra cada fruta en mayúsculas. \n"
   ]
  },
  {
   "cell_type": "code",
   "execution_count": 7,
   "metadata": {},
   "outputs": [
    {
     "name": "stdout",
     "output_type": "stream",
     "text": [
      "Mi lista de frutas es: ['Papaya', 'Açai', 'Coco', 'Frambuesa']\n",
      "Iteración por la fruta: PAPAYA\n",
      "Iteración por la fruta: AÇAI\n",
      "Iteración por la fruta: COCO\n",
      "Iteración por la fruta: FRAMBUESA\n"
     ]
    }
   ],
   "source": [
    "frutas = [\"Papaya\", \"Açai\", \"Coco\", \"Frambuesa\"]\n",
    "print(\"Mi lista de frutas es:\",frutas)\n",
    "\n",
    "for fruta in frutas:\n",
    "    print(\"Iteración por la fruta:\", fruta.upper())   "
   ]
  },
  {
   "cell_type": "markdown",
   "metadata": {},
   "source": [
    "####  3. Genera un bucle while que imprima los números del 0 al 4. \n"
   ]
  },
  {
   "cell_type": "code",
   "execution_count": 26,
   "metadata": {},
   "outputs": [
    {
     "name": "stdout",
     "output_type": "stream",
     "text": [
      "El bucle while está iterando por el nº: 0\n",
      "El bucle while está iterando por el nº: 1\n",
      "El bucle while está iterando por el nº: 2\n",
      "El bucle while está iterando por el nº: 3\n",
      "El bucle while está iterando por el nº: 4\n"
     ]
    }
   ],
   "source": [
    "numeros = 0\n",
    "\n",
    "while numeros <=4:\n",
    "    print(\"El bucle while está iterando por el nº:\",numeros)\n",
    "    numeros+=1\n"
   ]
  },
  {
   "cell_type": "markdown",
   "metadata": {},
   "source": [
    "#### 4. Genera un bucle del 0 al 9, pero que se detenga en el 5.\n"
   ]
  },
  {
   "cell_type": "code",
   "execution_count": 18,
   "metadata": {},
   "outputs": [
    {
     "name": "stdout",
     "output_type": "stream",
     "text": [
      "Los números generados para este bucle son: range(0, 10)\n",
      "0\n",
      "1\n",
      "2\n",
      "3\n",
      "4\n",
      "5\n"
     ]
    }
   ],
   "source": [
    "bucle_ejer4 = range(0, 10)\n",
    "print(\"Los números generados para este bucle son:\",bucle_ejer4)\n",
    "\n",
    "for x in range(0,10):\n",
    "    if x <=5:\n",
    "        print(x)"
   ]
  },
  {
   "cell_type": "markdown",
   "metadata": {},
   "source": [
    "#### 5. Recorre los números del 0 al 9 e imprime solo los números impares."
   ]
  },
  {
   "cell_type": "code",
   "execution_count": 19,
   "metadata": {},
   "outputs": [
    {
     "name": "stdout",
     "output_type": "stream",
     "text": [
      "1\n",
      "3\n",
      "5\n",
      "7\n",
      "9\n"
     ]
    }
   ],
   "source": [
    "for x in range(1,10,2):\n",
    "    print(x)"
   ]
  },
  {
   "cell_type": "markdown",
   "metadata": {},
   "source": [
    "#### 6. Dada la lista `[10, 20, 30, 40, 50]`, calcula la suma de todos los elementos usando un bucle `for`."
   ]
  },
  {
   "cell_type": "code",
   "execution_count": 27,
   "metadata": {},
   "outputs": [
    {
     "name": "stdout",
     "output_type": "stream",
     "text": [
      "La suma de todos los elementos del bucle es 150\n"
     ]
    }
   ],
   "source": [
    "lista_ejer6 = [10, 20, 30, 40, 50]\n",
    "sum_lista6 = 0\n",
    "\n",
    "for s in lista_ejer6:\n",
    "    sum_lista6 +=s\n",
    "    \n",
    "print(\"La suma de todos los elementos del bucle es\", sum_lista6)\n",
    "    "
   ]
  },
  {
   "cell_type": "markdown",
   "metadata": {},
   "source": [
    "#### 7. Dada la cadena `\"Hola mundo\"`, cuenta cuántas veces aparecen las vocales (`a`, `e`, `i`, `o`, `u`) usando un bucle `for`.\n"
   ]
  },
  {
   "cell_type": "code",
   "execution_count": 3,
   "metadata": {},
   "outputs": [
    {
     "name": "stdout",
     "output_type": "stream",
     "text": [
      "La vocal aeiou aparece 1 veces\n",
      "La vocal aeiou aparece 2 veces\n",
      "La vocal aeiou aparece 1 veces\n",
      "La vocal aeiou aparece 1 veces\n",
      "La vocal aeiou aparece 1 veces\n",
      "La vocal aeiou aparece 1 veces\n",
      "La vocal aeiou aparece 1 veces\n",
      "La vocal aeiou aparece 1 veces\n",
      "La vocal aeiou aparece 1 veces\n"
     ]
    }
   ],
   "source": [
    "cadena = \"Hola mundo\"\n",
    "voc = \"aeiou\"\n",
    "frecuencia_vocales = {}\n",
    "\n",
    "for c in cadena:\n",
    "    if c in frecuencia_vocales:\n",
    "        frecuencia_vocales[c] +=1\n",
    "    else:\n",
    "        frecuencia_vocales[c] =1\n",
    "    \n",
    "\n",
    "for c, frecuencia in frecuencia_vocales.items():\n",
    "    print(\"La vocal\", voc, \"aparece\", frecuencia, \"veces\")"
   ]
  },
  {
   "cell_type": "markdown",
   "metadata": {},
   "source": [
    "#### 8. Dada la cadena `\"Python\"`, usa un bucle `for` para imprimir los caracteres en orden inverso (`n`, `o`, `h`, `t`, `y`, `P`).\n"
   ]
  },
  {
   "cell_type": "code",
   "execution_count": 49,
   "metadata": {},
   "outputs": [
    {
     "name": "stdout",
     "output_type": "stream",
     "text": [
      "n\n",
      "o\n",
      "h\n",
      "t\n",
      "y\n",
      "P\n"
     ]
    }
   ],
   "source": [
    "cadena8 = \"Python\" \n",
    "for i in reversed(cadena8):\n",
    "    print(i)\n",
    "    \n"
   ]
  },
  {
   "cell_type": "markdown",
   "metadata": {},
   "source": [
    "#### 9. Dada la lista `[1, 2, 3, 4, 5]`, multiplica todos sus elementos usando un bucle `for` y almacena los resultados en una lista nueva. \n"
   ]
  },
  {
   "cell_type": "code",
   "execution_count": 8,
   "metadata": {},
   "outputs": [
    {
     "name": "stdout",
     "output_type": "stream",
     "text": [
      "La multiplicación de todos los elementos del bucle es 120\n",
      "Los resultados de los elementos del bucle en la lista nueva son: [1, 2, 6, 24, 120]\n"
     ]
    }
   ],
   "source": [
    "lista9 = [1, 2, 3, 4, 5]\n",
    "nueva = 1\n",
    "resultado = []\n",
    "\n",
    "for i in lista9:\n",
    "        nueva *=i\n",
    "        resultado.append(nueva)\n",
    "    \n",
    "print(\"La multiplicación de todos los elementos del bucle es\", nueva)\n",
    "print(\"Los resultados de los elementos del bucle en la lista nueva son:\", resultado)"
   ]
  },
  {
   "cell_type": "markdown",
   "metadata": {},
   "source": [
    "#### 10. Dada la lista `[1, 2, 3, 4, 5, 6, 7, 8, 9, 10]`, utiliza un bucle `for` para contar cuántos números son pares y cuántos son impares."
   ]
  },
  {
   "cell_type": "code",
   "execution_count": 23,
   "metadata": {},
   "outputs": [
    {
     "name": "stdout",
     "output_type": "stream",
     "text": [
      "Cantidad de números pares: 5\n",
      "Cantidad de números impares: 5\n"
     ]
    }
   ],
   "source": [
    "lista10 = [1, 2, 3, 4, 5, 6, 7, 8, 9, 10]\n",
    "par = 0\n",
    "impar = 0\n",
    "\n",
    "for n in lista10:\n",
    "     if n %2 ==0:\n",
    "        par +=1 \n",
    "        \n",
    "     else:\n",
    "        impar +=1\n",
    "                \n",
    "print(\"Cantidad de números pares:\", par)\n",
    "print(\"Cantidad de números impares:\", impar)\n"
   ]
  },
  {
   "cell_type": "markdown",
   "metadata": {},
   "source": [
    "#### 11. Escribe un programa que solicite al usuario un número entero positivo (`n`) y calcule la suma de todos los números primos menores o iguales a `n`. Utiliza un bucle `for` para iterar sobre cada número y verifica si es primo."
   ]
  },
  {
   "cell_type": "code",
   "execution_count": 14,
   "metadata": {},
   "outputs": [
    {
     "ename": "SyntaxError",
     "evalue": "'return' outside function (1090551425.py, line 7)",
     "output_type": "error",
     "traceback": [
      "\u001b[1;36m  Cell \u001b[1;32mIn[14], line 7\u001b[1;36m\u001b[0m\n\u001b[1;33m    return False\u001b[0m\n\u001b[1;37m    ^\u001b[0m\n\u001b[1;31mSyntaxError\u001b[0m\u001b[1;31m:\u001b[0m 'return' outside function\n"
     ]
    }
   ],
   "source": [
    "num_usuario = int(input(\"Por favor, inserta un número entero positivo\"))\n",
    "sum_numprim = []\n",
    "\n",
    "for i in range(2, num_usuario):\n",
    "    if num_usuario % i == 0:\n",
    "        print(\"No es primo\", n, \"es divisor\")\n",
    "        return False\n",
    "    print(\"Es primo\")\n",
    "    return True\n",
    "\n"
   ]
  },
  {
   "cell_type": "code",
   "execution_count": 15,
   "metadata": {},
   "outputs": [
    {
     "name": "stdout",
     "output_type": "stream",
     "text": [
      "[8]\n"
     ]
    }
   ],
   "source": [
    "sum_numprim.append(num_usuario)\n",
    "print(sum_numprim)\n"
   ]
  },
  {
   "cell_type": "markdown",
   "metadata": {},
   "source": [
    "#### 12. Escribe un programa que solicite al usuario un número entero positivo (`n`) y luego imprima un patrón de asteriscos como el siguiente ejemplo para `n = 5`:\n",
    "```\n",
    "*\n",
    "**\n",
    "***\n",
    "****\n",
    "*****\n",
    "```\n",
    "Utiliza un bucle `for` anidado para controlar la cantidad de asteriscos en cada línea."
   ]
  },
  {
   "cell_type": "code",
   "execution_count": 16,
   "metadata": {},
   "outputs": [
    {
     "name": "stdout",
     "output_type": "stream",
     "text": [
      "*\n",
      "**\n",
      "***\n",
      "****\n"
     ]
    }
   ],
   "source": [
    "usuario = int(input(\"Introducza un nº entero positivo\"))\n",
    "\n",
    "if usuario >0:\n",
    "     for n in range(1, usuario + 1):\n",
    "        for p in range(n):\n",
    "            print(\"*\", end=\"\")\n",
    "        print()\n",
    "else:\n",
    "    print(\"El número introducido no es un entero positivo.\")\n"
   ]
  },
  {
   "cell_type": "markdown",
   "metadata": {},
   "source": [
    "#### 13. Dado un texto, utiliza un bucle `for` para contar cuántas veces aparece cada palabra en el texto. Ignora mayúsculas/minúsculas y los signos de puntuación."
   ]
  },
  {
   "cell_type": "code",
   "execution_count": 11,
   "metadata": {},
   "outputs": [
    {
     "name": "stdout",
     "output_type": "stream",
     "text": [
      "La palabra' los ' aparece 1 vez/ veces.\n",
      "La palabra' smoothies ' aparece 1 vez/ veces.\n",
      "La palabra' son ' aparece 1 vez/ veces.\n",
      "La palabra' una ' aparece 3 vez/ veces.\n",
      "La palabra' excelente ' aparece 1 vez/ veces.\n",
      "La palabra' manera ' aparece 1 vez/ veces.\n",
      "La palabra' de ' aparece 3 vez/ veces.\n",
      "La palabra' concentrar ' aparece 1 vez/ veces.\n",
      "La palabra' gran ' aparece 1 vez/ veces.\n",
      "La palabra' cantidad ' aparece 1 vez/ veces.\n",
      "La palabra' nutrientes ' aparece 1 vez/ veces.\n",
      "La palabra' en ' aparece 1 vez/ veces.\n",
      "La palabra' un ' aparece 1 vez/ veces.\n",
      "La palabra' solo ' aparece 1 vez/ veces.\n",
      "La palabra' vaso. ' aparece 1 vez/ veces.\n",
      "La palabra' al ' aparece 1 vez/ veces.\n",
      "La palabra' combinar ' aparece 1 vez/ veces.\n",
      "La palabra' frutas ' aparece 1 vez/ veces.\n",
      "La palabra' y ' aparece 2 vez/ veces.\n",
      "La palabra' verduras ' aparece 1 vez/ veces.\n",
      "La palabra' naturales, ' aparece 1 vez/ veces.\n",
      "La palabra' podemos ' aparece 1 vez/ veces.\n",
      "La palabra' obtener ' aparece 1 vez/ veces.\n",
      "La palabra' amplia ' aparece 1 vez/ veces.\n",
      "La palabra' variedad ' aparece 1 vez/ veces.\n",
      "La palabra' vitaminas, ' aparece 1 vez/ veces.\n",
      "La palabra' minerales ' aparece 1 vez/ veces.\n",
      "La palabra' antioxidantes ' aparece 1 vez/ veces.\n",
      "La palabra' esenciales ' aparece 1 vez/ veces.\n",
      "La palabra' para ' aparece 1 vez/ veces.\n",
      "La palabra' nuestra ' aparece 1 vez/ veces.\n",
      "La palabra' salud. ' aparece 1 vez/ veces.\n"
     ]
    }
   ],
   "source": [
    "texto = \"Los smoothies son una excelente manera de concentrar una gran cantidad de nutrientes en un solo vaso. Al combinar frutas y verduras naturales, podemos obtener una amplia variedad de vitaminas, minerales y antioxidantes esenciales para nuestra salud.\"\n",
    "texto = texto.lower()\n",
    "palabras = texto.split()\n",
    "frecuencia_palabras = {}\n",
    "for palabra in palabras:\n",
    "    if palabra in frecuencia_palabras:\n",
    "        frecuencia_palabras[palabra] += 1\n",
    "    else:\n",
    "        frecuencia_palabras[palabra] = 1\n",
    "\n",
    "for palabra, frecuencia in frecuencia_palabras.items():\n",
    "    print(\"La palabra'\", palabra, \"' aparece\", frecuencia, \"vez/ veces.\")"
   ]
  },
  {
   "cell_type": "markdown",
   "metadata": {},
   "source": [
    "#### 14. Escribe un programa que solicite al usuario dos números enteros positivos (`inicio` y `fin`, donde `inicio <= fin`) y luego calcule la suma de los números pares y la suma de los números impares en ese rango. Utiliza un bucle `for` para iterar sobre cada número y una estructura `if-else` para clasificar y sumar los números pares e impares."
   ]
  },
  {
   "cell_type": "code",
   "execution_count": 19,
   "metadata": {},
   "outputs": [
    {
     "name": "stdout",
     "output_type": "stream",
     "text": [
      "Suma de los números pares en el rango [3, 7] es: 10\n",
      "Suma de los números impares en el rango [3, 7] es: 15\n"
     ]
    }
   ],
   "source": [
    "inicio = int(input(\"Introduce el número de inicio: \"))\n",
    "fin = int(input(\"Introduce el número de fin: \"))\n",
    "\n",
    "if inicio <= fin and inicio >= 0 and fin >= 0:\n",
    "    suma_pares = 0\n",
    "    suma_impares = 0\n",
    "\n",
    "    for numero in range(inicio, fin + 1):\n",
    "        if numero % 2 == 0:\n",
    "            suma_pares += numero\n",
    "        else:\n",
    "            suma_impares += numero\n",
    "\n",
    "    print(f\"Suma de los números pares en el rango [{inicio}, {fin}] es: {suma_pares}\")\n",
    "    print(f\"Suma de los números impares en el rango [{inicio}, {fin}] es: {suma_impares}\")\n",
    "else:\n",
    "    print(\"Valores introducidos incorrectos (nº fin debe ser superior al al de inicio, y ambos positivos).\")"
   ]
  },
  {
   "cell_type": "markdown",
   "metadata": {},
   "source": [
    "#### 15. Escribe un programa que solicite al usuario un número entero positivo (`n`) y luego identifique todos los números primos menores o iguales a `n`. Para cada número, imprime si es primo o no usando un bucle `for` y una estructura `if-else` para verificar la condición de primalidad."
   ]
  },
  {
   "cell_type": "code",
   "execution_count": 21,
   "metadata": {},
   "outputs": [
    {
     "name": "stdout",
     "output_type": "stream",
     "text": [
      "2 es nº primo\n",
      "3 es nº primo\n",
      "4 es nº primo\n",
      "5 es nº primo\n"
     ]
    }
   ],
   "source": [
    "numero15 = int(input(\"Introduzca un nº entero positivo\"))\n",
    "\n",
    "if numero15 <=1:\n",
    "    print(False)\n",
    "    \n",
    "for i in range (2, numero15):\n",
    "    if numero15 % i == 0:\n",
    "        print(False)\n",
    "    else:\n",
    "        True\n",
    "        \n",
    "if numero15 >0:\n",
    "    for num in range (2, numero15 + 1):\n",
    "        if numero15:\n",
    "            print(num, \"es nº primo\")\n",
    "        else:\n",
    "            print(num, \"no es nº primo\")\n",
    "else:\n",
    "    print(\"Por favor, introduzca un nº entero positivo\")"
   ]
  },
  {
   "cell_type": "markdown",
   "metadata": {},
   "source": [
    "#### 16.Dada una lista de precios `[100, 200, 300, 400, 500]`, aplica un descuento del 10% a todos los precios mayores a `250`. Imprime la lista actualizada de precios después de aplicar el descuento utilizando un bucle `for`. "
   ]
  },
  {
   "cell_type": "code",
   "execution_count": 13,
   "metadata": {},
   "outputs": [
    {
     "name": "stdout",
     "output_type": "stream",
     "text": [
      "Lista actualizada de precios:\n",
      "100\n",
      "200\n",
      "270.0\n",
      "360.0\n",
      "450.0\n"
     ]
    }
   ],
   "source": [
    "precios = [100, 200, 300, 400, 500]\n",
    "\n",
    "for p in range(len(precios)):\n",
    "    if precios[p] > 250:\n",
    "        precios[p] *= 0.9\n",
    "    \n",
    "\n",
    "print(\"Lista actualizada de precios:\")\n",
    "\n",
    "for p in precios:\n",
    "    print(p)"
   ]
  },
  {
   "cell_type": "markdown",
   "metadata": {},
   "source": [
    "#### 17. Dada una lista de calificaciones de estudiantes `[85, 92, 78, 90, 88]`, clasifica a cada estudiante como \"Aprobado\" si la calificación es mayor o igual a `80` y como \"Reprobado\" si es menor a `80`. Imprime el nombre de cada estudiante junto con su estado utilizando un bucle `for` y una estructura `if-else`.\n"
   ]
  },
  {
   "cell_type": "code",
   "execution_count": 24,
   "metadata": {},
   "outputs": [
    {
     "name": "stdout",
     "output_type": "stream",
     "text": [
      "El alumno Laura está aprobado\n",
      "El alumno Juan está aprobado\n",
      "El alumno Luis está aprobado\n",
      "El alumno Pepe está aprobado\n",
      "El alumno Pepe está suspenso\n"
     ]
    }
   ],
   "source": [
    "calificaciones = [85, 92, 78, 90, 88]\n",
    "alumnos = [\"Laura\", \"Juan\", \"María\", \"Luis\", \"Pepe\"]\n",
    "combinado= zip(calificaciones, alumnos)\n",
    "\n",
    "for calificacion, alumno in zip(calificaciones, alumnos):\n",
    "    if calificacion >= 80:\n",
    "        print(\"El alumno\", alumno, \"está aprobado\")\n",
    "else:\n",
    "    print(\"El alumno\", alumno, \"está suspenso\")"
   ]
  },
  {
   "cell_type": "markdown",
   "metadata": {},
   "source": [
    "\n",
    "#### 18. Escribe un programa que solicite al usuario dos números enteros positivos (`inicio`, `fin`) y otro número entero positivo (`divisor`). Encuentra el número más grande en el rango desde `inicio` hasta `fin` que sea divisible por `divisor`. Utiliza un bucle `for` y una estructura `if-else` para verificar y mantener el registro del número más grande divisible por el divisor dado.\n"
   ]
  },
  {
   "cell_type": "markdown",
   "metadata": {},
   "source": []
  },
  {
   "cell_type": "code",
   "execution_count": 25,
   "metadata": {},
   "outputs": [
    {
     "name": "stdout",
     "output_type": "stream",
     "text": [
      "El número más grande en el rango [3, 7] que es divisible por 2 es: 6\n"
     ]
    }
   ],
   "source": [
    "usuario_inicio = int(input(\"Inserte un nº entero positivo\"))\n",
    "usuario_fin = int(input(\"Inserte otro nº entero positivo\"))\n",
    "usuario_divisor = int(input(\"Inserte otro nº entero positivo\"))\n",
    "\n",
    "num_grande = None\n",
    "\n",
    "if usuario_inicio <= usuario_fin and usuario_inicio >= 0 and usuario_fin >= 0 and usuario_divisor > 0:\n",
    "    for numero in range(usuario_fin, usuario_inicio - 1, -1):\n",
    "        if numero % usuario_divisor == 0:\n",
    "            num_grande = numero\n",
    "            break\n",
    "    \n",
    "    if num_grande is not None:\n",
    "        print(f\"El número más grande en el rango [{usuario_inicio}, {usuario_fin}] que es divisible por {usuario_divisor} es: {num_grande}\")\n",
    "    else:\n",
    "        print(f\"No hay ningún número en el rango [{usuario_inicio}, {usuario_fin}] que sea divisible por {usuario_divisor}.\")\n",
    "else:\n",
    "    print(\"Los valores introducidos no son válidos. Asegúrate de que inicio <= fin y ambos sean números enteros positivos y que el divisor sea positivo.\")\n",
    "\n"
   ]
  }
 ],
 "metadata": {
  "kernelspec": {
   "display_name": "hackio",
   "language": "python",
   "name": "python3"
  },
  "language_info": {
   "codemirror_mode": {
    "name": "ipython",
    "version": 3
   },
   "file_extension": ".py",
   "mimetype": "text/x-python",
   "name": "python",
   "nbconvert_exporter": "python",
   "pygments_lexer": "ipython3",
   "version": "3.12.4"
  }
 },
 "nbformat": 4,
 "nbformat_minor": 2
}
