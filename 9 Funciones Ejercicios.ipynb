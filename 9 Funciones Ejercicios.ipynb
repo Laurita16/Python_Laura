{
 "cells": [
  {
   "cell_type": "markdown",
   "metadata": {},
   "source": [
    "\n",
    "<div style=\"text-align: center;\">\n",
    "  <img src=\"https://github.com/Hack-io-Data/Imagenes/blob/main/01-LogosHackio/logo_celeste@4x.png?raw=true\" alt=\"esquema\" />\n",
    "</div>"
   ]
  },
  {
   "cell_type": "markdown",
   "metadata": {},
   "source": [
    "#### 1. Escribe una función sin parámetros que imprima el siguiente mensaje \"¡Hola! Bienvenido.\"\n"
   ]
  },
  {
   "cell_type": "code",
   "execution_count": 8,
   "metadata": {},
   "outputs": [],
   "source": [
    "def mensaje():\n",
    "    print(\"¡Hola,! Bienvenido\")\n",
    "   "
   ]
  },
  {
   "cell_type": "code",
   "execution_count": 9,
   "metadata": {},
   "outputs": [
    {
     "name": "stdout",
     "output_type": "stream",
     "text": [
      "¡Hola,! Bienvenido\n"
     ]
    }
   ],
   "source": [
    "mensaje ()"
   ]
  },
  {
   "cell_type": "markdown",
   "metadata": {},
   "source": [
    "#### 2. Escribe una función que reciba dos parámetros y devuelva la suma de ambos.\n"
   ]
  },
  {
   "cell_type": "code",
   "execution_count": 13,
   "metadata": {},
   "outputs": [],
   "source": [
    "def suma_parametros(par1, par2):\n",
    "    suma = par1 + par2\n",
    "    print(\"La suma de los dos parámetros es:\", par1 + par2)"
   ]
  },
  {
   "cell_type": "code",
   "execution_count": 14,
   "metadata": {},
   "outputs": [
    {
     "name": "stdout",
     "output_type": "stream",
     "text": [
      "La suma de los dos parámetros es: 8\n"
     ]
    }
   ],
   "source": [
    "suma_parametros(5,3)"
   ]
  },
  {
   "cell_type": "markdown",
   "metadata": {},
   "source": [
    "#### 3. Escribe una función que reciba un número y devuelva True si es par, False si no lo es."
   ]
  },
  {
   "cell_type": "code",
   "execution_count": 18,
   "metadata": {},
   "outputs": [],
   "source": [
    "def es_par (numero):\n",
    "    par = True\n",
    "    if numero %2 == 0:\n",
    "        return par\n",
    "    else:\n",
    "        return False\n",
    "    "
   ]
  },
  {
   "cell_type": "code",
   "execution_count": 20,
   "metadata": {},
   "outputs": [
    {
     "data": {
      "text/plain": [
       "True"
      ]
     },
     "execution_count": 20,
     "metadata": {},
     "output_type": "execute_result"
    }
   ],
   "source": [
    "es_par(8)\n"
   ]
  },
  {
   "cell_type": "markdown",
   "metadata": {},
   "source": [
    "#### 4. Escribe un función que devuelva un saludo personalizado a una persona dado su nombre. \n"
   ]
  },
  {
   "cell_type": "code",
   "execution_count": 64,
   "metadata": {},
   "outputs": [
    {
     "name": "stdout",
     "output_type": "stream",
     "text": [
      "Hola, Laura, ¿Cómo te va?\n"
     ]
    }
   ],
   "source": [
    "def saludo(nombre):\n",
    "    return f\"Hola, {nombre}, ¿Cómo te va?\"\n",
    "\n",
    "nombre = \"Laura\"\n",
    "saludo_nbre = saludo(nombre)\n",
    "print(saludo_nbre)"
   ]
  },
  {
   "cell_type": "markdown",
   "metadata": {},
   "source": [
    "#### 5. Escribe una función que sume todos los números que reciba como argumento. La función debe recibir una cantidad variable de argumentos y devolver la suma de todos ellos."
   ]
  },
  {
   "cell_type": "code",
   "execution_count": 24,
   "metadata": {},
   "outputs": [],
   "source": [
    "def suma_numeros(*numeros):\n",
    "    print(nombre)\n",
    "   "
   ]
  },
  {
   "cell_type": "code",
   "execution_count": 75,
   "metadata": {},
   "outputs": [
    {
     "name": "stdout",
     "output_type": "stream",
     "text": [
      "3\n"
     ]
    }
   ],
   "source": [
    "num1 = 1\n",
    "num2= 2\n",
    "num3= 3\n",
    "suma = num1 + num2\n",
    "print(suma)\n"
   ]
  },
  {
   "cell_type": "code",
   "execution_count": 78,
   "metadata": {},
   "outputs": [
    {
     "name": "stdout",
     "output_type": "stream",
     "text": [
      "10\n"
     ]
    }
   ],
   "source": [
    "suma2= (num3 + 5 + num2)\n",
    "print(suma2)"
   ]
  },
  {
   "cell_type": "markdown",
   "metadata": {},
   "source": [
    "#### 6. Escribe una función que cuente las letras de una palabra y devuelva un diccionario con la cantidad de veces que se repite cada letra \n"
   ]
  },
  {
   "cell_type": "code",
   "execution_count": 85,
   "metadata": {},
   "outputs": [
    {
     "name": "stdout",
     "output_type": "stream",
     "text": [
      "{'h': 2, 'o': 2, 'y': 1, 'a': 1, 'c': 1, 'e': 1, 's': 1, 'l': 1}\n"
     ]
    }
   ],
   "source": [
    "def veces_letras(palabra):\n",
    "    \n",
    "    veces = {}\n",
    "    \n",
    "    for letra in palabra:\n",
    "        letra = letra.lower()\n",
    "        \n",
    "        if letra in veces:\n",
    "            veces[letra] += 1\n",
    "        else:\n",
    "            veces[letra] = 1\n",
    "    \n",
    "    return veces\n",
    "\n",
    "palabra = \"hoyhacesol\"\n",
    "resultado = contar_letras(palabra)\n",
    "print(resultado)    \n",
    "    "
   ]
  },
  {
   "cell_type": "markdown",
   "metadata": {},
   "source": [
    "#### 7. Escribe un función recursiva para calcular el factorial de un número entero no negativo."
   ]
  },
  {
   "cell_type": "code",
   "execution_count": 9,
   "metadata": {},
   "outputs": [
    {
     "name": "stdout",
     "output_type": "stream",
     "text": [
      "720\n"
     ]
    }
   ],
   "source": [
    "def factorial(n):\n",
    "    if n == 0 or n == 1:\n",
    "        return 1\n",
    "    else:\n",
    "        return n * factorial(n - 1)\n",
    "\n",
    "\n",
    "print(factorial(6)) "
   ]
  },
  {
   "cell_type": "markdown",
   "metadata": {},
   "source": [
    "#### 8. Escribe una función que tome dos parámetros: `figura` (una cadena que puede ser `\"rectangulo\"`, `\"circulo\"` o `\"triangulo\"`) y `datos` (una tupla con los datos necesarios para calcular el área de la figura). "
   ]
  },
  {
   "cell_type": "code",
   "execution_count": 12,
   "metadata": {},
   "outputs": [],
   "source": [
    "def triangulo(base, altura):\n",
    "    area= (base*altura)/2\n",
    "    return  \"El área del triángulo es:\",area"
   ]
  },
  {
   "cell_type": "code",
   "execution_count": 103,
   "metadata": {},
   "outputs": [
    {
     "data": {
      "text/plain": [
       "'El área del triángulo es: 3.0'"
      ]
     },
     "execution_count": 103,
     "metadata": {},
     "output_type": "execute_result"
    }
   ],
   "source": [
    "triangulo(2,3)"
   ]
  },
  {
   "cell_type": "markdown",
   "metadata": {},
   "source": [
    "#### 9. Escribe una función que tome una lista de números como parámetro y devuelva el número más grande de la lista. No utilices la función `max()` de Python en tu solución."
   ]
  },
  {
   "cell_type": "code",
   "execution_count": 110,
   "metadata": {},
   "outputs": [
    {
     "name": "stdout",
     "output_type": "stream",
     "text": [
      "El nº más grande de la lista es: [16, 6, 14, 37, -24]\n"
     ]
    }
   ],
   "source": [
    "def lista_numeros(*lista):\n",
    "    numero_masgrande = lista[0]\n",
    "    \n",
    "    for numero in lista:\n",
    "        if numero > numero_masgrande:\n",
    "            numero_masgrande = numero\n",
    "    \n",
    "    return numero_masgrande\n",
    "    \n",
    "numeros = [16, 6, 14, 37,-24]\n",
    "resultado = lista_numeros(numeros)\n",
    "print(\"El nº más grande de la lista es:\", resultado)"
   ]
  },
  {
   "cell_type": "markdown",
   "metadata": {},
   "source": [
    "#### 10. Escribe una función que tome una cadena como parámetro un texto y devuelva `True` si la cadena es un palíndromo (se lee igual de izquierda a derecha que de derecha a izquierda), y `False` en caso contrario. Ignora los espacios y considera mayúsculas y minúsculas de manera insensible.\n"
   ]
  },
  {
   "cell_type": "code",
   "execution_count": 20,
   "metadata": {},
   "outputs": [
    {
     "name": "stdout",
     "output_type": "stream",
     "text": [
      "True\n",
      "False\n"
     ]
    }
   ],
   "source": [
    "def palindromo(cadena):\n",
    "    texto = ''.join(cadena.split()).lower()\n",
    "    \n",
    "    return texto==texto[::-1]\n",
    "\n",
    "cadena1 = \"Yo hago yoga hoy\"\n",
    "cadena2= \"Otro caso\"\n",
    "\n",
    "print(palindromo(cadena1))\n",
    "print(palindromo(cadena2))"
   ]
  },
  {
   "cell_type": "markdown",
   "metadata": {},
   "source": [
    "#### 11. Escribe una función que tome una cadena como parámetro y devuelva dos valores: la cantidad de vocales y la cantidad de consonantes presentes en la cadena. Ignora los espacios y considera mayúsculas y minúsculas de manera insensible.\n"
   ]
  },
  {
   "cell_type": "code",
   "execution_count": 25,
   "metadata": {},
   "outputs": [
    {
     "name": "stdout",
     "output_type": "stream",
     "text": [
      "El texto tiene: 40 vocales y 57 consonantes.\n"
     ]
    }
   ],
   "source": [
    "def valores(cadena):\n",
    "    \n",
    "    cadena = cadena.lower().replace(\" \", \"\")  \n",
    "    contador_vocales = 0\n",
    "    contador_consonantes = 0\n",
    "    vocales = \"aeiou\"\n",
    "    \n",
    "    for letras in cadena:\n",
    "        if letras in vocales:\n",
    "            contador_vocales += 1\n",
    "        elif letras.isalpha():  \n",
    "            contador_consonantes += 1\n",
    "            \n",
    "    return contador_vocales, contador_consonantes\n",
    "\n",
    "cadena = \"El mundo genera cada vez más plástico y la gestión de los residuos que genera el sector no acaba de llegar como debería\"\n",
    "vocales, consonantes = valores(cadena)\n",
    "print(\"El texto tiene:\", vocales,\"vocales y\", consonantes, \"consonantes.\")"
   ]
  }
 ],
 "metadata": {
  "kernelspec": {
   "display_name": "hackio",
   "language": "python",
   "name": "python3"
  },
  "language_info": {
   "codemirror_mode": {
    "name": "ipython",
    "version": 3
   },
   "file_extension": ".py",
   "mimetype": "text/x-python",
   "name": "python",
   "nbconvert_exporter": "python",
   "pygments_lexer": "ipython3",
   "version": "3.12.4"
  }
 },
 "nbformat": 4,
 "nbformat_minor": 2
}
