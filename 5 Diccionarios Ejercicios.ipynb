{
 "cells": [
  {
   "cell_type": "markdown",
   "metadata": {},
   "source": [
    "<div style=\"text-align: center;\">\n",
    "  <img src=\"https://github.com/Hack-io-Data/Imagenes/blob/main/01-LogosHackio/logo_celeste@4x.png?raw=true\" alt=\"logo hack(io)\" />\n",
    "</div>"
   ]
  },
  {
   "cell_type": "markdown",
   "metadata": {},
   "source": [
    "#### 1. Acceso a valores. Dado el diccionario:\n",
    "\n",
    "```python\n",
    "alumno = {\n",
    "    \"nombre\": \"Laura\",\n",
    "    \"edad\": 22,\n",
    "    \"carrera\": \"Biología\"\n",
    "}\n",
    "```\n",
    "\n",
    "1.1. Accede y muestra el valor asociado con la clave `\"nombre\"`.\n",
    "\n",
    "1.2. Accede y muestra el valor asociado con la clave `\"carrera\"`.\n"
   ]
  },
  {
   "cell_type": "code",
   "execution_count": 3,
   "metadata": {},
   "outputs": [
    {
     "name": "stdout",
     "output_type": "stream",
     "text": [
      "{'nombre': 'Laura', 'edad': 22, 'carrera': 'Biología'}\n"
     ]
    }
   ],
   "source": [
    "alumno = {\"nombre\": \"Laura\",\n",
    "          \"edad\": 22,\n",
    "          \"carrera\": \"Biología\"}\n",
    "type(alumno)\n",
    "print(alumno)"
   ]
  },
  {
   "cell_type": "code",
   "execution_count": 6,
   "metadata": {},
   "outputs": [
    {
     "name": "stdout",
     "output_type": "stream",
     "text": [
      "El valor asociado con la clave nombre es: Laura\n",
      "El valor asociado con la clave carrera es: Biología\n"
     ]
    }
   ],
   "source": [
    "# 1.1 Valor asociado con la clave \"nombre\":\n",
    "print(\"El valor asociado con la clave nombre es:\", alumno.get(\"nombre\"))\n",
    "\n",
    "# 1.2 Valor asociado con la clave \"carrera\":\n",
    "print(\"El valor asociado con la clave carrera es:\", alumno.get(\"carrera\"))"
   ]
  },
  {
   "cell_type": "markdown",
   "metadata": {},
   "source": [
    "#### 2. Actualización de valores. Dado el siguiente diccionario:\n",
    "\n",
    "```python\n",
    "cuenta = {\n",
    "    \"saldo\": 1500,\n",
    "    \"moneda\": \"USD\"\n",
    "}\n",
    "```\n",
    "\n",
    "2.1. Actualiza el valor de la clave `\"saldo\"` a `2000`.\n",
    "\n",
    "2.2. Cambia el valor de `\"moneda\"` a `\"EUR\"`."
   ]
  },
  {
   "cell_type": "code",
   "execution_count": 7,
   "metadata": {},
   "outputs": [
    {
     "name": "stdout",
     "output_type": "stream",
     "text": [
      "{'saldo': 1500, 'moneda': 'USD'}\n"
     ]
    }
   ],
   "source": [
    "cuenta = {\"saldo\": 1500,\n",
    "          \"moneda\": \"USD\"}\n",
    "print(cuenta)"
   ]
  },
  {
   "cell_type": "code",
   "execution_count": 10,
   "metadata": {},
   "outputs": [
    {
     "name": "stdout",
     "output_type": "stream",
     "text": [
      "{'saldo': 2000, 'moneda': 'EUR'}\n"
     ]
    }
   ],
   "source": [
    "# 2.1 Actualización de un valor\n",
    "cuenta [\"saldo\"] = 2000\n",
    "\n",
    "\n",
    "# 2.2 Cambio de un valor\n",
    "cuenta [\"moneda\"] = \"EUR\" \n",
    "\n",
    "print(cuenta)"
   ]
  },
  {
   "cell_type": "markdown",
   "metadata": {},
   "source": [
    "\n",
    "#### 3. Añadir nuevas claves. Dado el diccionario:\n",
    "\n",
    "```python\n",
    "vehiculo = {\n",
    "    \"marca\": \"Ford\",\n",
    "    \"modelo\": \"Mustang\"\n",
    "}\n",
    "```\n",
    "\n",
    "3.1. Añade una nueva clave `\"año\"` con el valor `2020`.\n",
    "\n",
    "3.2. Añade una nueva clave `\"color\"` con el valor `\"rojo\"`.\n"
   ]
  },
  {
   "cell_type": "code",
   "execution_count": 12,
   "metadata": {},
   "outputs": [],
   "source": [
    "vehiculo = {\"marca\": \"Ford\",\n",
    "            \"modelo\": \"Mustang\"}"
   ]
  },
  {
   "cell_type": "code",
   "execution_count": 13,
   "metadata": {},
   "outputs": [
    {
     "name": "stdout",
     "output_type": "stream",
     "text": [
      "{'marca': 'Ford', 'modelo': 'Mustang', 'año': 2020, 'color': 'rojo'}\n"
     ]
    }
   ],
   "source": [
    "vehiculo [\"año\"] = 2020\n",
    "vehiculo [\"color\"] = \"rojo\"\n",
    "\n",
    "print(vehiculo)"
   ]
  },
  {
   "cell_type": "markdown",
   "metadata": {},
   "source": [
    "#### 4. Eliminar Claves. Dado el diccionario:\n",
    "\n",
    "```python\n",
    "libro = {\n",
    "    \"título\": \"Cien Años de Soledad\",\n",
    "    \"autor\": \"Gabriel García Márquez\",\n",
    "    \"páginas\": 417\n",
    "}\n",
    "```\n",
    "\n",
    "4.1. Elimina la clave `\"páginas\"`.\n",
    "\n",
    "4.2. Elimina la clave `\"título\"`.\n",
    "\n"
   ]
  },
  {
   "cell_type": "code",
   "execution_count": 1,
   "metadata": {},
   "outputs": [
    {
     "name": "stdout",
     "output_type": "stream",
     "text": [
      "{'título': 'Cien años de soledad', 'autor': 'Gabriel García Márquez', 'páginas': 417}\n"
     ]
    }
   ],
   "source": [
    "libro = {\"título\": \"Cien años de soledad\",\n",
    "         \"autor\": \"Gabriel García Márquez\",\n",
    "         \"páginas\": 417}\n",
    "\n",
    "print(libro)"
   ]
  },
  {
   "cell_type": "code",
   "execution_count": 2,
   "metadata": {},
   "outputs": [
    {
     "name": "stdout",
     "output_type": "stream",
     "text": [
      "{'título': 'Cien años de soledad', 'autor': 'Gabriel García Márquez'}\n"
     ]
    }
   ],
   "source": [
    "#4.1 Eliminación clave páginas:\n",
    "\n",
    "libro.popitem()\n",
    "print(libro)"
   ]
  },
  {
   "cell_type": "code",
   "execution_count": 3,
   "metadata": {},
   "outputs": [
    {
     "name": "stdout",
     "output_type": "stream",
     "text": [
      "{'autor': 'Gabriel García Márquez'}\n"
     ]
    }
   ],
   "source": [
    "#4.2 Eliminación clave título:\n",
    "libro.pop(\"título\")\n",
    "print(libro)"
   ]
  },
  {
   "cell_type": "markdown",
   "metadata": {},
   "source": [
    "\n",
    "#### 5. Verificación de Existencia de Claves. Dado el diccionario:\n",
    "\n",
    "```python\n",
    "pelicula = {\n",
    "    \"título\": \"Inception\",\n",
    "    \"director\": \"Christopher Nolan\"\n",
    "}\n",
    "```\n",
    "5.1. Verifica si la clave `\"director\"` existe en el diccionario.\n",
    "\n",
    "5.2. Verifica si la clave `\"año\"` existe en el diccionario.\n"
   ]
  },
  {
   "cell_type": "code",
   "execution_count": 29,
   "metadata": {},
   "outputs": [
    {
     "name": "stdout",
     "output_type": "stream",
     "text": [
      "{'título': 'Inception', 'director': 'Christopher Nolan'}\n"
     ]
    }
   ],
   "source": [
    "película = {\"título\": \"Inception\",\n",
    "            \"director\": \"Christopher Nolan\"}\n",
    "\n",
    "print(película)"
   ]
  },
  {
   "cell_type": "code",
   "execution_count": 31,
   "metadata": {},
   "outputs": [
    {
     "name": "stdout",
     "output_type": "stream",
     "text": [
      "¿Está la clave director en el diccionario? True\n",
      "Está la clave año en el diccionario? False\n"
     ]
    }
   ],
   "source": [
    "print(\"¿Está la clave director en el diccionario?\", \"director\" in película)\n",
    "\n",
    "print(\"Está la clave año en el diccionario?\", \"año\" in película)"
   ]
  },
  {
   "cell_type": "markdown",
   "metadata": {},
   "source": [
    "#### 6. Uso del Método `get`. Dado el diccionario:\n",
    "\n",
    "```python\n",
    "ciudad = {\n",
    "    \"nombre\": \"París\",\n",
    "    \"país\": \"Francia\"\n",
    "}\n",
    "```\n",
    "\n",
    "6.1. Usa el método `get` para obtener el valor de la clave `\"nombre\"`.\n",
    "\n",
    "6.2. Usa el método `get` para obtener el valor de la clave `\"población\"` con un valor predeterminado `\"Desconocido\"`.\n"
   ]
  },
  {
   "cell_type": "code",
   "execution_count": 32,
   "metadata": {},
   "outputs": [
    {
     "name": "stdout",
     "output_type": "stream",
     "text": [
      "{'nombre': 'París', 'país': 'Francia'}\n"
     ]
    }
   ],
   "source": [
    "ciudad = {\"nombre\": \"París\",\n",
    "          \"país\": \"Francia\"}\n",
    "\n",
    "print (ciudad)"
   ]
  },
  {
   "cell_type": "code",
   "execution_count": 35,
   "metadata": {},
   "outputs": [
    {
     "name": "stdout",
     "output_type": "stream",
     "text": [
      "París\n",
      "desconocido\n"
     ]
    }
   ],
   "source": [
    "print(ciudad.get(\"nombre\"))\n",
    "\n",
    "print(ciudad.get(\"poblaación\", \"desconocido\"))"
   ]
  },
  {
   "cell_type": "markdown",
   "metadata": {},
   "source": [
    "#### 7. Actualización con `update`. Dado el diccionario:\n",
    "\n",
    "```python\n",
    "persona = {\n",
    "    \"nombre\": \"Miguel\",\n",
    "    \"correo\": \"miguel@example.com\"\n",
    "}\n",
    "```\n",
    "\n",
    "7.1. Usa el método `update` para añadir las claves `\"edad\"` con valor `30` y `\"teléfono\"` con valor `\"555-1234\"`.\n",
    "\n",
    "7.2. Cambia el valor de la clave `\"correo\"` usando `update`.\n"
   ]
  },
  {
   "cell_type": "code",
   "execution_count": 36,
   "metadata": {},
   "outputs": [
    {
     "name": "stdout",
     "output_type": "stream",
     "text": [
      "{'nombre': 'Miguel', 'correo': 'miguel@example.com'}\n"
     ]
    }
   ],
   "source": [
    "persona = {\"nombre\": \"Miguel\",\n",
    "           \"correo\": \"miguel@example.com\"}\n",
    "\n",
    "print(persona)"
   ]
  },
  {
   "cell_type": "code",
   "execution_count": 42,
   "metadata": {},
   "outputs": [
    {
     "name": "stdout",
     "output_type": "stream",
     "text": [
      "{'nombre': 'Miguel', 'correo': 'miguel@example.com', 'edad': 30, 'teléfono': '555-1234'}\n",
      "{'nombre': 'Miguel', 'correo': 'miguel@ejercicio.com', 'edad': 30, 'teléfono': '555-1234'}\n"
     ]
    }
   ],
   "source": [
    "persona.update({\"edad\": 30, \"teléfono\": \"555-1234\"})\n",
    "print(persona)\n",
    "\n",
    "persona.update({\"correo\": \"miguel@ejercicio.com\"})\n",
    "print(persona)"
   ]
  }
 ],
 "metadata": {
  "kernelspec": {
   "display_name": "hackio",
   "language": "python",
   "name": "python3"
  },
  "language_info": {
   "codemirror_mode": {
    "name": "ipython",
    "version": 3
   },
   "file_extension": ".py",
   "mimetype": "text/x-python",
   "name": "python",
   "nbconvert_exporter": "python",
   "pygments_lexer": "ipython3",
   "version": "3.12.4"
  }
 },
 "nbformat": 4,
 "nbformat_minor": 2
}
