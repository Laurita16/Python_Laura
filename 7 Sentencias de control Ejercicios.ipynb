{
 "cells": [
  {
   "cell_type": "markdown",
   "metadata": {},
   "source": [
    "<div style=\"text-align: center;\">\n",
    "  <img src=\"https://github.com/Hack-io-Data/Imagenes/blob/main/01-LogosHackio/logo_celeste@4x.png?raw=true\" alt=\"logo hack(io)\" />\n",
    "</div>"
   ]
  },
  {
   "cell_type": "markdown",
   "metadata": {},
   "source": [
    "#### 1. Escribe un programa que determine si un número es par o impar.\n",
    "\n"
   ]
  },
  {
   "cell_type": "code",
   "execution_count": 16,
   "metadata": {},
   "outputs": [
    {
     "name": "stdout",
     "output_type": "stream",
     "text": [
      "El número es par\n"
     ]
    }
   ],
   "source": [
    "numero = int(input(\"Introduce un número:\"))\n",
    "\n",
    "if numero % 2 == 0 :\n",
    "    print(\"El número es par\")\n",
    "    \n",
    "else:\n",
    "    print(\"El número es impar\")"
   ]
  },
  {
   "cell_type": "markdown",
   "metadata": {},
   "source": [
    "#### 2. Genera un programa que nos diga si es de noche, de día o tarde según la hora proporcionada por el usuario."
   ]
  },
  {
   "cell_type": "code",
   "execution_count": 43,
   "metadata": {},
   "outputs": [
    {
     "name": "stdout",
     "output_type": "stream",
     "text": [
      "Es por la noche\n"
     ]
    }
   ],
   "source": [
    "hora = int(input(\"Introduce la hora en formato 24 horas, es decir, de 0 a 24\"))\n",
    "\n",
    "if hora >0 and hora <= 8:\n",
    "    print(\"Es por la noche\")\n",
    "    \n",
    "elif hora >8 and hora <=16:\n",
    "    print(\"Es por la mañana\")\n",
    "    \n",
    "else :\n",
    "    print(\"Es por la noche\")"
   ]
  },
  {
   "cell_type": "markdown",
   "metadata": {},
   "source": [
    "#### 3. Dado un nombre imprime un saludo personalizado."
   ]
  },
  {
   "cell_type": "code",
   "execution_count": 38,
   "metadata": {},
   "outputs": [
    {
     "name": "stdout",
     "output_type": "stream",
     "text": [
      "Hola, Laura , ¿qué tal estás hoy?\n"
     ]
    }
   ],
   "source": [
    "saludo = (input())\n",
    "print(\"Hola,\", saludo,\", ¿qué tal estás hoy?\")"
   ]
  },
  {
   "cell_type": "markdown",
   "metadata": {},
   "source": [
    "#### 4. Escribe un programa que determine qué calificación en texto tiene un alumno en base a su calificación numérica. Las reglas de calificación son: \n",
    "\n",
    "- 0 - 69 insuficiente\n",
    "\n",
    "- 70 - 79 bien\n",
    "\n",
    "- 80 - 89 muy bien\n",
    "\n",
    "- 90 - 100 excelente\n"
   ]
  },
  {
   "cell_type": "code",
   "execution_count": 41,
   "metadata": {},
   "outputs": [
    {
     "name": "stdout",
     "output_type": "stream",
     "text": [
      "Nota: excelente\n"
     ]
    }
   ],
   "source": [
    "nota = int(input(\"¿Qué calificación numérica has obtenido?\"))\n",
    "\n",
    "if nota <= 69:\n",
    "    print(\"Nota: insuficiente\")\n",
    "    \n",
    "elif nota >= 70 and nota <= 79:\n",
    "    print(\"Nota: bien\")\n",
    "\n",
    "elif nota >= 80 and nota <=89:\n",
    "    print(\"Nota: muy bien\")\n",
    "    \n",
    "else :\n",
    "    print(\"Nota: excelente\")"
   ]
  },
  {
   "cell_type": "markdown",
   "metadata": {},
   "source": [
    "#### 5. Escribe un programa que imprima el día de la semana, dado un número del 1 al 7.\n"
   ]
  },
  {
   "cell_type": "code",
   "execution_count": 3,
   "metadata": {},
   "outputs": [
    {
     "name": "stdout",
     "output_type": "stream",
     "text": [
      "Hoy es Sábado\n"
     ]
    }
   ],
   "source": [
    "opcion = True\n",
    "\n",
    "while opcion == True:\n",
    "    dia_semana =int(input(\"Introduce un número del 1 al 7 para determianr el día de la semana\"))\n",
    "    \n",
    "    if dia_semana == 1:\n",
    "        print(\"Hoy es Lunes\")\n",
    "        \n",
    "    elif dia_semana == 2:\n",
    "        print(\"Hoy es Martes\")\n",
    "        \n",
    "    elif dia_semana == 3:\n",
    "        print(\"Hoy es Miércoles\")\n",
    "        \n",
    "    elif dia_semana == 4:\n",
    "        print(\"Hoy es Jueves\")\n",
    "        \n",
    "    elif dia_semana == 5:\n",
    "        print(\"Hoy es Viernes\")\n",
    "        \n",
    "    elif dia_semana == 6:\n",
    "        print(\"Hoy es Sábado\")\n",
    "        \n",
    "    elif dia_semana == 7:\n",
    "        print(\"Hoy es Domingo\")\n",
    "        \n",
    "    else:\n",
    "        print(\"Por favor, intoduce un número válido del 1 al 7.\")\n",
    "    break\n"
   ]
  },
  {
   "cell_type": "markdown",
   "metadata": {},
   "source": [
    "#### 6. Escribe un programa que determine si un número es positivo, negativo o cero."
   ]
  },
  {
   "cell_type": "code",
   "execution_count": 13,
   "metadata": {},
   "outputs": [
    {
     "name": "stdout",
     "output_type": "stream",
     "text": [
      "Este número es cero\n"
     ]
    }
   ],
   "source": [
    "numero = int(input(\"¿Cómo es este número?\"))\n",
    "\n",
    "if numero > 0:\n",
    "    print(\"Este número es positivo\")\n",
    "    \n",
    "elif numero < 0:\n",
    "    print(\"Este número es negativo\")\n",
    "    \n",
    "else:\n",
    "    print(\"Este número es cero\")"
   ]
  },
  {
   "cell_type": "markdown",
   "metadata": {},
   "source": [
    "#### 7. Escribe un programa que determine si una persona puede conducir o no. La edad mínima para conducir es 18 años. \n"
   ]
  },
  {
   "cell_type": "code",
   "execution_count": 15,
   "metadata": {},
   "outputs": [
    {
     "name": "stdout",
     "output_type": "stream",
     "text": [
      "La persona puede conducir\n"
     ]
    }
   ],
   "source": [
    "edad = int(input(\"Introduce tu edad\"))\n",
    "\n",
    "if edad >= 18:\n",
    "    print(\"La persona puede conducir\")\n",
    "    \n",
    "elif edad < 18:\n",
    "    print(\"La persona no peude conducir\")\n",
    "    \n",
    "else:\n",
    "    print(\"Por favor, introduzca un valor correcto\")"
   ]
  },
  {
   "cell_type": "markdown",
   "metadata": {},
   "source": [
    "#### 8. Escribe un programa que determine si un estudiante aprobó o suspendió un examen."
   ]
  },
  {
   "cell_type": "code",
   "execution_count": 28,
   "metadata": {},
   "outputs": [
    {
     "name": "stdout",
     "output_type": "stream",
     "text": [
      "Por favor introduzca el formato correcto\n"
     ]
    }
   ],
   "source": [
    "nota = int(input(\"Introduce tu nota en número del 0 al 10\"))\n",
    "\n",
    "if nota <5:\n",
    "    print(\"Examen suspendido\")\n",
    "    \n",
    "elif nota >=5 and nota <=10:\n",
    "    print(\"Examen aprobado\")\n",
    "    \n",
    "else:\n",
    "    print(\"Por favor introduzca el formato correcto\")"
   ]
  },
  {
   "cell_type": "markdown",
   "metadata": {},
   "source": [
    "#### 9. Escribe un programa que determine si un número es múltiplo de 3 y 5.\n"
   ]
  },
  {
   "cell_type": "code",
   "execution_count": 6,
   "metadata": {},
   "outputs": [
    {
     "name": "stdout",
     "output_type": "stream",
     "text": [
      "El número es múltiplo de 3 y 5\n"
     ]
    }
   ],
   "source": [
    "multiplo = int(input(\"Introduzca un número mayor que cero\"))\n",
    "\n",
    "if multiplo % 3 == 0 and multiplo % 5 == 0:\n",
    "    print(\"El número es múltiplo de 3 y 5\")\n",
    "    \n",
    "else:\n",
    "    print(\"El número no es múltiplo de 3 y 5\")"
   ]
  },
  {
   "cell_type": "markdown",
   "metadata": {},
   "source": [
    "#### 10. Escribe un programa que determine si un número es par o impar.\n"
   ]
  },
  {
   "cell_type": "code",
   "execution_count": 30,
   "metadata": {},
   "outputs": [
    {
     "name": "stdout",
     "output_type": "stream",
     "text": [
      "El número es impar\n"
     ]
    }
   ],
   "source": [
    "numero = int(input(\"Introduce un número:\"))\n",
    "\n",
    "if numero % 2 == 0 :\n",
    "    print(\"El número es par\")\n",
    "    \n",
    "else:\n",
    "    print(\"El número es impar\")"
   ]
  }
 ],
 "metadata": {
  "kernelspec": {
   "display_name": "hackio",
   "language": "python",
   "name": "python3"
  },
  "language_info": {
   "codemirror_mode": {
    "name": "ipython",
    "version": 3
   },
   "file_extension": ".py",
   "mimetype": "text/x-python",
   "name": "python",
   "nbconvert_exporter": "python",
   "pygments_lexer": "ipython3",
   "version": "3.12.4"
  }
 },
 "nbformat": 4,
 "nbformat_minor": 2
}
